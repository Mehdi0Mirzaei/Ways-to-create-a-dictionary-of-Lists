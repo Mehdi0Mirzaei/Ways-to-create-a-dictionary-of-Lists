{
 "cells": [
  {
   "cell_type": "code",
   "execution_count": 29,
   "id": "ead7d064",
   "metadata": {},
   "outputs": [],
   "source": [
    "def dict_from_list(lst):\n",
    "    return dict(lst)"
   ]
  },
  {
   "cell_type": "code",
   "execution_count": 30,
   "id": "542c77bd",
   "metadata": {},
   "outputs": [],
   "source": [
    "lst1=[[1,2],[3,4],[5,6]]"
   ]
  },
  {
   "cell_type": "code",
   "execution_count": 31,
   "id": "b326f258",
   "metadata": {},
   "outputs": [
    {
     "data": {
      "text/plain": [
       "{1: 2, 3: 4, 5: 6}"
      ]
     },
     "execution_count": 31,
     "metadata": {},
     "output_type": "execute_result"
    }
   ],
   "source": [
    "dict_from_list(lst1)"
   ]
  },
  {
   "cell_type": "code",
   "execution_count": 33,
   "id": "9b84120e",
   "metadata": {},
   "outputs": [],
   "source": [
    "lst2=[['Ali',1],['Hasan',2],['Hossein',3]]"
   ]
  },
  {
   "cell_type": "code",
   "execution_count": 34,
   "id": "93b41310",
   "metadata": {},
   "outputs": [
    {
     "data": {
      "text/plain": [
       "{'Ali': 1, 'Hasan': 2, 'Hossein': 3}"
      ]
     },
     "execution_count": 34,
     "metadata": {},
     "output_type": "execute_result"
    }
   ],
   "source": [
    "dict_from_list(lst2)"
   ]
  },
  {
   "cell_type": "code",
   "execution_count": 37,
   "id": "fa58919a",
   "metadata": {},
   "outputs": [
    {
     "name": "stdout",
     "output_type": "stream",
     "text": [
      "{'key1': [1, 2], 'key2': ['I', 'like', 'you']}\n"
     ]
    }
   ],
   "source": [
    "myDict = {}\n",
    " \n",
    "# Adding list as value\n",
    "myDict[\"key1\"] = [1, 2]\n",
    "myDict[\"key2\"] = [\"I\", \"like\", \"you\"]\n",
    " \n",
    "print(myDict)"
   ]
  },
  {
   "cell_type": "code",
   "execution_count": 38,
   "id": "753964e5",
   "metadata": {},
   "outputs": [
    {
     "name": "stdout",
     "output_type": "stream",
     "text": [
      "{'key1': [1, 2, ['I', 'like', 'you']]}\n"
     ]
    }
   ],
   "source": [
    "\n",
    "# Creating an empty dictionary\n",
    "myDict = {}\n",
    " \n",
    "# Adding list as value\n",
    "myDict[\"key1\"] = [1, 2]\n",
    " \n",
    "# creating a list\n",
    "lst = [\"I\", \"like\", \"you\"]\n",
    " \n",
    "# Adding this list as sublist in myDict\n",
    "myDict[\"key1\"].append(lst)\n",
    " \n",
    "print(myDict)"
   ]
  },
  {
   "cell_type": "code",
   "execution_count": 39,
   "id": "285ad8fe",
   "metadata": {},
   "outputs": [
    {
     "name": "stdout",
     "output_type": "stream",
     "text": [
      "{'key1': [1, 2, ['I', 'like', 'you']], 1: ['1'], 2: ['1', '2'], 3: ['2', '3'], 4: ['3']}\n"
     ]
    }
   ],
   "source": [
    "# Creating a list\n",
    "valList = ['1', '2', '3']\n",
    " \n",
    "# Iterating the elements in list\n",
    "for val in valList:\n",
    "    for ele in range(int(val), int(val) + 2):\n",
    "        myDict.setdefault(ele, []).append(val)\n",
    "print(myDict)"
   ]
  },
  {
   "cell_type": "code",
   "execution_count": 40,
   "id": "741bcef6",
   "metadata": {},
   "outputs": [
    {
     "name": "stdout",
     "output_type": "stream",
     "text": [
      "{'1': range(1, 3), '2': range(2, 4), '3': range(3, 5)}\n"
     ]
    }
   ],
   "source": [
    "d = dict((val, range(int(val), int(val) + 2))\n",
    "                  for val in ['1', '2', '3'])\n",
    " \n",
    "print(d)"
   ]
  }
 ],
 "metadata": {
  "kernelspec": {
   "display_name": "Python 3 (ipykernel)",
   "language": "python",
   "name": "python3"
  },
  "language_info": {
   "codemirror_mode": {
    "name": "ipython",
    "version": 3
   },
   "file_extension": ".py",
   "mimetype": "text/x-python",
   "name": "python",
   "nbconvert_exporter": "python",
   "pygments_lexer": "ipython3",
   "version": "3.9.13"
  }
 },
 "nbformat": 4,
 "nbformat_minor": 5
}
